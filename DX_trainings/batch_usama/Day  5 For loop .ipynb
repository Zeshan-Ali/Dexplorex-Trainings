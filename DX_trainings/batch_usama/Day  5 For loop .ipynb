{
 "cells": [
  {
   "cell_type": "code",
   "execution_count": 1,
   "id": "b955bbb5",
   "metadata": {},
   "outputs": [
    {
     "name": "stdout",
     "output_type": "stream",
     "text": [
      "1\n",
      "2\n",
      "3\n",
      "4\n",
      "5\n",
      "6\n",
      "7\n",
      "8\n",
      "9\n",
      "10\n"
     ]
    }
   ],
   "source": []
  },
  {
   "cell_type": "code",
   "execution_count": 5,
   "id": "b8b9805b",
   "metadata": {},
   "outputs": [
    {
     "name": "stdout",
     "output_type": "stream",
     "text": [
      "Enter you age:-9\n",
      "Enter you age:6\n",
      "your age is: 6\n",
      "your age is: 6\n"
     ]
    }
   ],
   "source": [
    "age = int(input(\"Enter you age:\"))\n",
    "\n",
    "while (age<0):\n",
    "    age = int(input(\"Enter you age:\"))\n",
    "    print(\"your age is:\",age)\n",
    "\n",
    "    \n",
    "print(\"your age is:\",age)\n",
    "    "
   ]
  },
  {
   "cell_type": "code",
   "execution_count": 46,
   "id": "5cb571ab",
   "metadata": {},
   "outputs": [
    {
     "name": "stdout",
     "output_type": "stream",
     "text": [
      "welcome\n",
      "do you want to play game again: enter y for yes and n for no:y\n",
      "welcome\n",
      "do you want to play game again: enter y for yes and n for no:yy\n",
      "welcome\n",
      "do you want to play game again: enter y for yes and n for no:h\n",
      "welcome\n",
      "do you want to play game again: enter y for yes and n for no:k\n",
      "welcome\n",
      "do you want to play game again: enter y for yes and n for no:n\n"
     ]
    }
   ],
   "source": [
    "# gaming logic\n",
    "\n",
    "choice = ''\n",
    "\n",
    "while choice != \"n\":\n",
    "    print(\"welcome\")\n",
    "    choice = input(\"do you want to play game again: enter y for yes and n for no:\")"
   ]
  },
  {
   "cell_type": "code",
   "execution_count": 26,
   "id": "c58bdeda",
   "metadata": {},
   "outputs": [
    {
     "name": "stdout",
     "output_type": "stream",
     "text": [
      "1\n",
      "3\n",
      "5\n",
      "7\n",
      "9\n",
      "11\n",
      "13\n"
     ]
    }
   ],
   "source": [
    "i = 1\n",
    "while(i <= 13):\n",
    "    if (i%2!=0):\n",
    "        print(i)\n",
    "    i = i+1"
   ]
  },
  {
   "cell_type": "code",
   "execution_count": 25,
   "id": "63f74c4f",
   "metadata": {},
   "outputs": [
    {
     "name": "stdout",
     "output_type": "stream",
     "text": [
      "1\n",
      "3\n",
      "5\n",
      "7\n",
      "9\n",
      "11\n"
     ]
    }
   ],
   "source": [
    "for i in range(1,12,2):\n",
    "    print(i)"
   ]
  },
  {
   "cell_type": "code",
   "execution_count": 30,
   "id": "0e68612f",
   "metadata": {},
   "outputs": [
    {
     "name": "stdout",
     "output_type": "stream",
     "text": [
      "hello\n",
      "hello\n",
      "hello\n",
      "hello\n",
      "hello\n",
      "hello\n",
      "hello\n",
      "hello\n",
      "hello\n",
      "hello\n",
      "hello\n",
      "hello\n",
      "hello\n",
      "hello\n",
      "hello\n",
      "hello\n",
      "hello\n",
      "hello\n",
      "hello\n"
     ]
    }
   ],
   "source": [
    "msg =\"Hello bacho ksy ho ?\"\n",
    "\n",
    "for c in range(1,len(msg)):\n",
    "    print(\"hello\")"
   ]
  },
  {
   "cell_type": "code",
   "execution_count": 29,
   "id": "015dbe0a",
   "metadata": {},
   "outputs": [
    {
     "data": {
      "text/plain": [
       "20"
      ]
     },
     "execution_count": 29,
     "metadata": {},
     "output_type": "execute_result"
    }
   ],
   "source": [
    "len(msg)"
   ]
  },
  {
   "cell_type": "code",
   "execution_count": 39,
   "id": "1efea996",
   "metadata": {},
   "outputs": [],
   "source": [
    "guests = [\"arham\",\"usman\",'kamran','arham',89]"
   ]
  },
  {
   "cell_type": "code",
   "execution_count": 40,
   "id": "2e2393f8",
   "metadata": {},
   "outputs": [
    {
     "data": {
      "text/plain": [
       "['arham', 'usman', 'kamran', 'arham', 89]"
      ]
     },
     "execution_count": 40,
     "metadata": {},
     "output_type": "execute_result"
    }
   ],
   "source": [
    "guests"
   ]
  },
  {
   "cell_type": "code",
   "execution_count": 41,
   "id": "615b24f4",
   "metadata": {},
   "outputs": [
    {
     "data": {
      "text/plain": [
       "list"
      ]
     },
     "execution_count": 41,
     "metadata": {},
     "output_type": "execute_result"
    }
   ],
   "source": [
    "type(guests)"
   ]
  },
  {
   "cell_type": "code",
   "execution_count": 42,
   "id": "83a2e61f",
   "metadata": {},
   "outputs": [
    {
     "name": "stdout",
     "output_type": "stream",
     "text": [
      "g ayan nu\n",
      "tusi kyu aye\n",
      "tusi kyu aye\n",
      "g ayan nu\n",
      "tusi kyu aye\n"
     ]
    }
   ],
   "source": [
    "for i in guests:\n",
    "    if (i=='arham'):\n",
    "        print(\"g ayan nu\")\n",
    "    else:\n",
    "        print(\"tusi kyu aye\")"
   ]
  },
  {
   "cell_type": "code",
   "execution_count": 51,
   "id": "9d98a982",
   "metadata": {},
   "outputs": [
    {
     "name": "stdout",
     "output_type": "stream",
     "text": [
      "*\n",
      "*\n",
      "*\n",
      "*\n",
      "*\n",
      "*\n",
      "*\n",
      "*\n",
      "*\n",
      "*\n",
      "*\n",
      "*\n",
      "*\n",
      "*\n",
      "*\n",
      "*\n",
      "*\n",
      "*\n",
      "*\n",
      "*\n",
      "*\n",
      "*\n",
      "*\n",
      "*\n",
      "*\n",
      "*\n",
      "*\n",
      "*\n",
      "*\n",
      "*\n",
      "*\n",
      "*\n",
      "*\n",
      "*\n",
      "*\n",
      "*\n",
      "*\n",
      "*\n",
      "*\n",
      "*\n",
      "*\n",
      "*\n",
      "*\n",
      "*\n",
      "*\n",
      "*\n",
      "*\n",
      "*\n",
      "*\n",
      "*\n",
      "*\n",
      "*\n",
      "*\n",
      "*\n",
      "*\n",
      "*\n",
      "*\n",
      "*\n",
      "*\n",
      "*\n",
      "*\n",
      "*\n",
      "*\n",
      "*\n",
      "*\n"
     ]
    }
   ],
   "source": [
    "for i in range (1,11):\n",
    "    print(\"*\".strip())\n",
    "    for j in range(1,i+1):\n",
    "         print(\"*\")"
   ]
  },
  {
   "cell_type": "code",
   "execution_count": null,
   "id": "33e6f72c",
   "metadata": {},
   "outputs": [],
   "source": []
  }
 ],
 "metadata": {
  "kernelspec": {
   "display_name": "Python 3 (ipykernel)",
   "language": "python",
   "name": "python3"
  },
  "language_info": {
   "codemirror_mode": {
    "name": "ipython",
    "version": 3
   },
   "file_extension": ".py",
   "mimetype": "text/x-python",
   "name": "python",
   "nbconvert_exporter": "python",
   "pygments_lexer": "ipython3",
   "version": "3.11.5"
  }
 },
 "nbformat": 4,
 "nbformat_minor": 5
}
