{
 "cells": [
  {
   "cell_type": "code",
   "execution_count": 1,
   "id": "c50dca92",
   "metadata": {},
   "outputs": [
    {
     "name": "stdout",
     "output_type": "stream",
     "text": [
      "hello\n"
     ]
    }
   ],
   "source": [
    "print(\"hello\")"
   ]
  },
  {
   "cell_type": "code",
   "execution_count": 2,
   "id": "b38a8d7b",
   "metadata": {},
   "outputs": [
    {
     "name": "stdout",
     "output_type": "stream",
     "text": [
      "hello greetings how r u?\n"
     ]
    }
   ],
   "source": [
    "msg = \"hello greetings how r u?\"\n",
    "print(msg)"
   ]
  },
  {
   "cell_type": "code",
   "execution_count": 8,
   "id": "a40f216c",
   "metadata": {},
   "outputs": [
    {
     "name": "stdout",
     "output_type": "stream",
     "text": [
      "enter your age?48\n"
     ]
    }
   ],
   "source": [
    "age = int(input(\"enter your age?\"))\n"
   ]
  },
  {
   "cell_type": "code",
   "execution_count": 9,
   "id": "29363419",
   "metadata": {},
   "outputs": [
    {
     "data": {
      "text/plain": [
       "int"
      ]
     },
     "execution_count": 9,
     "metadata": {},
     "output_type": "execute_result"
    }
   ],
   "source": [
    "type(age)"
   ]
  },
  {
   "cell_type": "code",
   "execution_count": 10,
   "id": "46791baf",
   "metadata": {},
   "outputs": [
    {
     "name": "stdout",
     "output_type": "stream",
     "text": [
      "your age is 48 thank you\n"
     ]
    }
   ],
   "source": [
    "print(\"your age is\" ,age,\"thank you\")"
   ]
  },
  {
   "cell_type": "code",
   "execution_count": 11,
   "id": "205323ba",
   "metadata": {},
   "outputs": [
    {
     "name": "stdout",
     "output_type": "stream",
     "text": [
      "your age is 48 tahnk you \n"
     ]
    }
   ],
   "source": [
    "print(f\"your age is {age} tahnk you \")"
   ]
  },
  {
   "cell_type": "code",
   "execution_count": 14,
   "id": "19a86b70",
   "metadata": {},
   "outputs": [],
   "source": [
    "phy = 38\n",
    "maths = 78\n",
    "chem = 89\n",
    "eng = 99\n",
    "msg = f\"you phy marks is {phy},you phy marks is {chem},you phy marks is {maths},you phy marks is {eng}\""
   ]
  },
  {
   "cell_type": "code",
   "execution_count": 15,
   "id": "71cca97a",
   "metadata": {},
   "outputs": [
    {
     "name": "stdout",
     "output_type": "stream",
     "text": [
      "you phy marks is 38,you phy marks is 89,you phy marks is 78,you phy marks is 99\n"
     ]
    }
   ],
   "source": [
    "print(msg)"
   ]
  },
  {
   "cell_type": "code",
   "execution_count": 16,
   "id": "9090940c",
   "metadata": {},
   "outputs": [
    {
     "name": "stdout",
     "output_type": "stream",
     "text": [
      "you are pass\n"
     ]
    }
   ],
   "source": [
    "if chem >= 89:\n",
    "    print(\"you are pass\")"
   ]
  },
  {
   "cell_type": "code",
   "execution_count": 25,
   "id": "74dcda6c",
   "metadata": {},
   "outputs": [
    {
     "name": "stdout",
     "output_type": "stream",
     "text": [
      "enter your age:3'\n"
     ]
    },
    {
     "ename": "ValueError",
     "evalue": "invalid literal for int() with base 10: \"3'\"",
     "output_type": "error",
     "traceback": [
      "\u001b[1;31m---------------------------------------------------------------------------\u001b[0m",
      "\u001b[1;31mValueError\u001b[0m                                Traceback (most recent call last)",
      "Cell \u001b[1;32mIn[25], line 1\u001b[0m\n\u001b[1;32m----> 1\u001b[0m age \u001b[38;5;241m=\u001b[39m \u001b[38;5;28mint\u001b[39m(\u001b[38;5;28minput\u001b[39m(\u001b[38;5;124m\"\u001b[39m\u001b[38;5;124menter your age:\u001b[39m\u001b[38;5;124m\"\u001b[39m))\n",
      "\u001b[1;31mValueError\u001b[0m: invalid literal for int() with base 10: \"3'\""
     ]
    }
   ],
   "source": []
  },
  {
   "cell_type": "code",
   "execution_count": 73,
   "id": "47f41f0b",
   "metadata": {},
   "outputs": [
    {
     "name": "stdout",
     "output_type": "stream",
     "text": [
      "enter your age:-98\n"
     ]
    }
   ],
   "source": [
    "age = int(input(\"enter your age:\"))\n",
    "if age >18:\n",
    "    phy = int(input(\"enter you marks:\"))\n",
    "    if phy >90:\n",
    "        fund_req = True\n",
    "    else:\n",
    "        fund_req = False\n",
    "else:\n",
    "    fund_req = False\n",
    "        \n",
    "\n",
    "        "
   ]
  },
  {
   "cell_type": "code",
   "execution_count": 72,
   "id": "08149f2a",
   "metadata": {},
   "outputs": [
    {
     "name": "stdout",
     "output_type": "stream",
     "text": [
      "hello\n"
     ]
    }
   ],
   "source": [
    "if age>18 and  phy> 90:\n",
    "    print(\"hello\")"
   ]
  },
  {
   "cell_type": "code",
   "execution_count": 63,
   "id": "ce93c1ac",
   "metadata": {},
   "outputs": [
    {
     "name": "stdout",
     "output_type": "stream",
     "text": [
      "do you have ielts:y\n"
     ]
    }
   ],
   "source": [
    "ielts = input(\"do you have ielts:\")\n",
    "if ielts.upper() == 'Y':\n",
    "    ilts = True\n",
    "else:\n",
    "    ilts = False"
   ]
  },
  {
   "cell_type": "code",
   "execution_count": 49,
   "id": "d3a0cb18",
   "metadata": {},
   "outputs": [
    {
     "name": "stdout",
     "output_type": "stream",
     "text": [
      "pesy ekthy kro admission k lye\n"
     ]
    }
   ],
   "source": [
    "if fund_req:\n",
    "    print(\"pesy ekthy kro admission k lye\")\n",
    "else:\n",
    "    print(\"chuti kro shabash\")"
   ]
  },
  {
   "cell_type": "code",
   "execution_count": 64,
   "id": "3f3f0de3",
   "metadata": {},
   "outputs": [
    {
     "name": "stdout",
     "output_type": "stream",
     "text": [
      "welcome in universityt \n"
     ]
    }
   ],
   "source": [
    "if fund_req or ilts:\n",
    "    print(\"welcome in universityt \")\n",
    "else:\n",
    "    print(\"bhago yhan s\")"
   ]
  },
  {
   "cell_type": "code",
   "execution_count": 56,
   "id": "3eb4ec32",
   "metadata": {},
   "outputs": [],
   "source": [
    "string = \"hello\"\n"
   ]
  },
  {
   "cell_type": "code",
   "execution_count": 57,
   "id": "ec012291",
   "metadata": {},
   "outputs": [
    {
     "data": {
      "text/plain": [
       "'HELLO'"
      ]
     },
     "execution_count": 57,
     "metadata": {},
     "output_type": "execute_result"
    }
   ],
   "source": [
    "string.upper()"
   ]
  },
  {
   "cell_type": "code",
   "execution_count": 65,
   "id": "21999c12",
   "metadata": {},
   "outputs": [
    {
     "data": {
      "text/plain": [
       "False"
      ]
     },
     "execution_count": 65,
     "metadata": {},
     "output_type": "execute_result"
    }
   ],
   "source": [
    "fund_req"
   ]
  },
  {
   "cell_type": "code",
   "execution_count": 66,
   "id": "5f4b0d73",
   "metadata": {},
   "outputs": [
    {
     "data": {
      "text/plain": [
       "True"
      ]
     },
     "execution_count": 66,
     "metadata": {},
     "output_type": "execute_result"
    }
   ],
   "source": [
    "ilts"
   ]
  },
  {
   "cell_type": "markdown",
   "id": "676cbe55",
   "metadata": {},
   "source": [
    "||     &&\n",
    "or     and"
   ]
  },
  {
   "cell_type": "markdown",
   "id": "d534d4aa",
   "metadata": {},
   "source": [
    "# Programming control flow\n",
    "1. sequential\n",
    "> a arranged sequence of instructions\n",
    "normal programing\n",
    "--- \n",
    "2. selection\n",
    "> code run and skipped on the basis of some condition \n",
    "if,ifeleif,nested if\n",
    "-----\n",
    "\n",
    "3. looping\n",
    "> code runs more than one time base on given condition \n",
    "while loop,for loop,"
   ]
  },
  {
   "cell_type": "code",
   "execution_count": 75,
   "id": "daa356ee",
   "metadata": {},
   "outputs": [
    {
     "name": "stdout",
     "output_type": "stream",
     "text": [
      "1\n",
      "2\n",
      "3\n",
      "4\n",
      "5\n",
      "6\n",
      "7\n",
      "8\n",
      "9\n",
      "10\n"
     ]
    }
   ],
   "source": [
    "i = 1\n",
    "while (i<=10):\n",
    "    print(i)\n",
    "    i = i+1"
   ]
  },
  {
   "cell_type": "code",
   "execution_count": null,
   "id": "4f599900",
   "metadata": {},
   "outputs": [],
   "source": [
    "i=10\n",
    "h"
   ]
  }
 ],
 "metadata": {
  "kernelspec": {
   "display_name": "Python 3 (ipykernel)",
   "language": "python",
   "name": "python3"
  },
  "language_info": {
   "codemirror_mode": {
    "name": "ipython",
    "version": 3
   },
   "file_extension": ".py",
   "mimetype": "text/x-python",
   "name": "python",
   "nbconvert_exporter": "python",
   "pygments_lexer": "ipython3",
   "version": "3.11.5"
  }
 },
 "nbformat": 4,
 "nbformat_minor": 5
}
