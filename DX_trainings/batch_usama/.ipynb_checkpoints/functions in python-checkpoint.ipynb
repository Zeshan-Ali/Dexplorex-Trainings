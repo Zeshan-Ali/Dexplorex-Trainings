{
 "cells": [
  {
   "cell_type": "markdown",
   "id": "cff9507f",
   "metadata": {},
   "source": [
    "# Loop\n",
    " - initialization of control variable\n",
    " - condition\n",
    " - updating value of control variable on every iteration"
   ]
  },
  {
   "cell_type": "code",
   "execution_count": 1,
   "id": "f3898fdd",
   "metadata": {},
   "outputs": [
    {
     "name": "stdout",
     "output_type": "stream",
     "text": [
      "1\n",
      "2\n",
      "3\n",
      "4\n",
      "5\n",
      "6\n",
      "7\n",
      "8\n",
      "9\n",
      "10\n"
     ]
    }
   ],
   "source": [
    "i=1\n",
    "while i<=10:\n",
    "    print(i)\n",
    "    i=i+1"
   ]
  },
  {
   "cell_type": "code",
   "execution_count": 11,
   "id": "7adc808f",
   "metadata": {},
   "outputs": [
    {
     "name": "stdout",
     "output_type": "stream",
     "text": [
      "enter a number for which you want to display table:7\n",
      "enter staruing value:8\n",
      "enter ending value:15\n",
      "7 x 8 = 56 \n",
      "7 x 9 = 63 \n",
      "7 x 10 = 70 \n",
      "7 x 11 = 77 \n",
      "7 x 12 = 84 \n",
      "7 x 13 = 91 \n",
      "7 x 14 = 98 \n",
      "7 x 15 = 105 \n"
     ]
    }
   ],
   "source": [
    "n = int(input(\"enter a number for which you want to display table:\"))\n",
    "s = int(input(\"enter staruing value:\"))\n",
    "e = int(input(\"enter ending value:\"))\n",
    "for i in range(s,e+1):\n",
    "    print(f\"{n} x {i} = {n*i} \")"
   ]
  },
  {
   "cell_type": "code",
   "execution_count": 10,
   "id": "f7a10df4",
   "metadata": {},
   "outputs": [
    {
     "name": "stdout",
     "output_type": "stream",
     "text": [
      "enter a number for which you want to display table:7\n",
      "enter staruing value:8\n",
      "enter ending value:15\n",
      "7 x 8 = 56 \n",
      "7 x 9 = 63 \n",
      "7 x 10 = 70 \n",
      "7 x 11 = 77 \n",
      "7 x 12 = 84 \n",
      "7 x 13 = 91 \n",
      "7 x 14 = 98 \n",
      "7 x 15 = 105 \n"
     ]
    }
   ],
   "source": [
    "n = int(input(\"enter a number for which you want to display table:\"))\n",
    "s = int(input(\"enter staruing value:\"))\n",
    "e = int(input(\"enter ending value:\"))\n",
    "i = s\n",
    "while(i<=e):\n",
    "    print(f\"{n} x {i} = {n*i} \")\n",
    "    i = i+1\n"
   ]
  },
  {
   "cell_type": "code",
   "execution_count": null,
   "id": "ab6c84ac",
   "metadata": {},
   "outputs": [],
   "source": []
  }
 ],
 "metadata": {
  "kernelspec": {
   "display_name": "Python 3 (ipykernel)",
   "language": "python",
   "name": "python3"
  },
  "language_info": {
   "codemirror_mode": {
    "name": "ipython",
    "version": 3
   },
   "file_extension": ".py",
   "mimetype": "text/x-python",
   "name": "python",
   "nbconvert_exporter": "python",
   "pygments_lexer": "ipython3",
   "version": "3.11.5"
  }
 },
 "nbformat": 4,
 "nbformat_minor": 5
}
