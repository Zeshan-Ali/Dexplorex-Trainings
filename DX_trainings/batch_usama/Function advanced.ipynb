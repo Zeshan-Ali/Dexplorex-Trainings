{
 "cells": [
  {
   "cell_type": "code",
   "execution_count": 18,
   "id": "21ee3965",
   "metadata": {},
   "outputs": [],
   "source": [
    "def sq( n ,d=.15):\n",
    "    s = n*n\n",
    "    summ = s+d\n",
    "    return summ"
   ]
  },
  {
   "cell_type": "code",
   "execution_count": 21,
   "id": "f521cd4c",
   "metadata": {},
   "outputs": [],
   "source": [
    "sqq = sq()"
   ]
  },
  {
   "cell_type": "code",
   "execution_count": 22,
   "id": "71971b6b",
   "metadata": {},
   "outputs": [
    {
     "data": {
      "text/plain": [
       "36.15"
      ]
     },
     "execution_count": 22,
     "metadata": {},
     "output_type": "execute_result"
    }
   ],
   "source": [
    "sqq"
   ]
  },
  {
   "cell_type": "code",
   "execution_count": 43,
   "id": "7a21e39e",
   "metadata": {},
   "outputs": [],
   "source": [
    "def greeting(husband,wife,child):\n",
    "    print(f\"hisband:{husband} wife: {wife},child {child}\")"
   ]
  },
  {
   "cell_type": "code",
   "execution_count": 44,
   "id": "53084b78",
   "metadata": {},
   "outputs": [
    {
     "name": "stdout",
     "output_type": "stream",
     "text": [
      "hisband:ali wife: zahida,child ahmad\n"
     ]
    }
   ],
   "source": [
    "greeting(\"ali\",wife=\"zahida\",child=\"ahmad\")"
   ]
  },
  {
   "cell_type": "code",
   "execution_count": 77,
   "id": "6bef5f93",
   "metadata": {},
   "outputs": [],
   "source": [
    "def academy(name,address,**other_info):\n",
    "    print(\"name\",name)\n",
    "    print(\"address\",address)\n",
    "    #print(type(other_info))\n",
    "    \n",
    "    for value in other_info.values():\n",
    "        print(value)"
   ]
  },
  {
   "cell_type": "code",
   "execution_count": 81,
   "id": "5d5cf90b",
   "metadata": {},
   "outputs": [
    {
     "name": "stdout",
     "output_type": "stream",
     "text": [
      "name aps\n",
      "address abc\n",
      "phy\n",
      "chemistery\n",
      "maths\n",
      "urdu\n"
     ]
    }
   ],
   "source": [
    "academy(\"aps\",\"abc\",subj=\"phy\",subj2=\"chemistery\",subj3=\"maths\",subj4=\"urdu\")"
   ]
  },
  {
   "cell_type": "code",
   "execution_count": 60,
   "id": "765e43a3",
   "metadata": {},
   "outputs": [],
   "source": [
    "dic = {1:\"zeshan\",2:\"usama\",3:\"abdullah\"}"
   ]
  },
  {
   "cell_type": "code",
   "execution_count": 70,
   "id": "ca4ce7a4",
   "metadata": {},
   "outputs": [
    {
     "data": {
      "text/plain": [
       "dict_keys([1, 2, 3])"
      ]
     },
     "execution_count": 70,
     "metadata": {},
     "output_type": "execute_result"
    }
   ],
   "source": [
    "dic.keys()"
   ]
  },
  {
   "cell_type": "code",
   "execution_count": 71,
   "id": "9c3a0760",
   "metadata": {},
   "outputs": [
    {
     "data": {
      "text/plain": [
       "dict_values(['zeshan', 'usama', 'abdullah'])"
      ]
     },
     "execution_count": 71,
     "metadata": {},
     "output_type": "execute_result"
    }
   ],
   "source": [
    "dic.values()"
   ]
  },
  {
   "cell_type": "code",
   "execution_count": 62,
   "id": "02c476a8",
   "metadata": {},
   "outputs": [
    {
     "name": "stdout",
     "output_type": "stream",
     "text": [
      "zeshan\n",
      "usama\n",
      "abdullah\n"
     ]
    }
   ],
   "source": [
    "for key,values in dic.items():\n",
    "    print(values)"
   ]
  },
  {
   "cell_type": "code",
   "execution_count": 72,
   "id": "72006d82",
   "metadata": {},
   "outputs": [
    {
     "data": {
      "text/plain": [
       "dict_items([(1, 'zeshan'), (2, 'usama'), (3, 'abdullah')])"
      ]
     },
     "execution_count": 72,
     "metadata": {},
     "output_type": "execute_result"
    }
   ],
   "source": [
    "dic.items()"
   ]
  },
  {
   "cell_type": "code",
   "execution_count": 64,
   "id": "da4451b4",
   "metadata": {},
   "outputs": [
    {
     "name": "stdout",
     "output_type": "stream",
     "text": [
      "1\n",
      "2\n",
      "3\n"
     ]
    }
   ],
   "source": [
    "for keys in dic.keys():\n",
    "    print(keys)"
   ]
  },
  {
   "cell_type": "code",
   "execution_count": 65,
   "id": "05119a37",
   "metadata": {},
   "outputs": [],
   "source": [
    "guest = [\"ahamd\",\"usmana\",\"raza\",\"usama\"]"
   ]
  },
  {
   "cell_type": "code",
   "execution_count": 68,
   "id": "c1abaad0",
   "metadata": {},
   "outputs": [
    {
     "data": {
      "text/plain": [
       "'raza'"
      ]
     },
     "execution_count": 68,
     "metadata": {},
     "output_type": "execute_result"
    }
   ],
   "source": [
    "guest[2]"
   ]
  },
  {
   "cell_type": "code",
   "execution_count": 69,
   "id": "a588f1f6",
   "metadata": {},
   "outputs": [
    {
     "name": "stdout",
     "output_type": "stream",
     "text": [
      "ahamd\n",
      "usmana\n",
      "raza\n",
      "usama\n"
     ]
    }
   ],
   "source": [
    "for i in guest:\n",
    "    print(i)"
   ]
  },
  {
   "cell_type": "code",
   "execution_count": 74,
   "id": "60884312",
   "metadata": {},
   "outputs": [
    {
     "name": "stdout",
     "output_type": "stream",
     "text": [
      "zeshan\n",
      "usama\n",
      "abdullah\n"
     ]
    }
   ],
   "source": [
    "for i in dic.values():\n",
    "    print(i)"
   ]
  },
  {
   "cell_type": "code",
   "execution_count": 84,
   "id": "a0f4b9e5",
   "metadata": {},
   "outputs": [
    {
     "ename": "SyntaxError",
     "evalue": "expected ':' (4039842904.py, line 3)",
     "output_type": "error",
     "traceback": [
      "\u001b[1;36m  Cell \u001b[1;32mIn[84], line 3\u001b[1;36m\u001b[0m\n\u001b[1;33m    if (a<b)\u001b[0m\n\u001b[1;37m            ^\u001b[0m\n\u001b[1;31mSyntaxError\u001b[0m\u001b[1;31m:\u001b[0m expected ':'\n"
     ]
    }
   ],
   "source": [
    "a=6\n",
    "b=8\n",
    "if (a<b)\n"
   ]
  },
  {
   "cell_type": "code",
   "execution_count": 91,
   "id": "3108b7cd",
   "metadata": {},
   "outputs": [
    {
     "name": "stdout",
     "output_type": "stream",
     "text": [
      "enter yyur age:hgf\n",
      "there is an error\n"
     ]
    }
   ],
   "source": [
    "try:\n",
    "    age = int(input(\"enter yyur age:\"))\n",
    "except:\n",
    "    print(\"there is an error\")"
   ]
  },
  {
   "cell_type": "code",
   "execution_count": 90,
   "id": "a44919fb",
   "metadata": {},
   "outputs": [
    {
     "name": "stdout",
     "output_type": "stream",
     "text": [
      "enter yyur age:h\n"
     ]
    },
    {
     "ename": "ValueError",
     "evalue": "invalid literal for int() with base 10: 'h'",
     "output_type": "error",
     "traceback": [
      "\u001b[1;31m---------------------------------------------------------------------------\u001b[0m",
      "\u001b[1;31mValueError\u001b[0m                                Traceback (most recent call last)",
      "Cell \u001b[1;32mIn[90], line 1\u001b[0m\n\u001b[1;32m----> 1\u001b[0m age \u001b[38;5;241m=\u001b[39m \u001b[38;5;28mint\u001b[39m(\u001b[38;5;28minput\u001b[39m(\u001b[38;5;124m\"\u001b[39m\u001b[38;5;124menter yyur age:\u001b[39m\u001b[38;5;124m\"\u001b[39m))\n",
      "\u001b[1;31mValueError\u001b[0m: invalid literal for int() with base 10: 'h'"
     ]
    }
   ],
   "source": [
    "age = int(input(\"enter yyur age:\"))"
   ]
  },
  {
   "cell_type": "code",
   "execution_count": 109,
   "id": "b92e9ea7",
   "metadata": {},
   "outputs": [
    {
     "name": "stdout",
     "output_type": "stream",
     "text": [
      "enter a number:78\n",
      "enter second number:0\n"
     ]
    }
   ],
   "source": [
    "n1 = float(input(\"enter a number:\"))\n",
    "n2 = float(input(\"enter second number:\"))"
   ]
  },
  {
   "cell_type": "code",
   "execution_count": 110,
   "id": "279d9ddd",
   "metadata": {},
   "outputs": [
    {
     "name": "stdout",
     "output_type": "stream",
     "text": [
      "there is trying to divide a number with 0\n"
     ]
    }
   ],
   "source": [
    "try:\n",
    "    div = n1/n2\n",
    "    prnt(\"the div is:\",div)\n",
    "except ZeroDivisionError:\n",
    "    print(\"there is trying to divide a number with 0\")\n",
    "    \n",
    "except NameError:\n",
    "    print(\"the name error\")\n",
    "except:\n",
    "    print(\"the error\")"
   ]
  },
  {
   "cell_type": "code",
   "execution_count": 96,
   "id": "69ecb276",
   "metadata": {},
   "outputs": [
    {
     "data": {
      "text/plain": [
       "2.0"
      ]
     },
     "execution_count": 96,
     "metadata": {},
     "output_type": "execute_result"
    }
   ],
   "source": [
    "div"
   ]
  },
  {
   "cell_type": "code",
   "execution_count": 111,
   "id": "b49722d5",
   "metadata": {},
   "outputs": [
    {
     "name": "stdout",
     "output_type": "stream",
     "text": [
      "the div is: 3.0\n"
     ]
    }
   ],
   "source": [
    " print(\"the div is:\",div)"
   ]
  },
  {
   "cell_type": "code",
   "execution_count": null,
   "id": "3a2679ac",
   "metadata": {},
   "outputs": [],
   "source": []
  }
 ],
 "metadata": {
  "kernelspec": {
   "display_name": "Python 3 (ipykernel)",
   "language": "python",
   "name": "python3"
  },
  "language_info": {
   "codemirror_mode": {
    "name": "ipython",
    "version": 3
   },
   "file_extension": ".py",
   "mimetype": "text/x-python",
   "name": "python",
   "nbconvert_exporter": "python",
   "pygments_lexer": "ipython3",
   "version": "3.11.5"
  }
 },
 "nbformat": 4,
 "nbformat_minor": 5
}
