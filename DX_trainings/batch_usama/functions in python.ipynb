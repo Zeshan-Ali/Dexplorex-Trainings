{
 "cells": [
  {
   "cell_type": "markdown",
   "id": "45fc41ba",
   "metadata": {},
   "source": [
    "# Loop\n",
    " - initialization of control variable\n",
    " - condition\n",
    " - updating value of control variable on every iteration"
   ]
  },
  {
   "cell_type": "code",
   "execution_count": 1,
   "id": "5dc610d0",
   "metadata": {},
   "outputs": [
    {
     "name": "stdout",
     "output_type": "stream",
     "text": [
      "1\n",
      "2\n",
      "3\n",
      "4\n",
      "5\n",
      "6\n",
      "7\n",
      "8\n",
      "9\n",
      "10\n"
     ]
    }
   ],
   "source": [
    "i=1\n",
    "while i<=10:\n",
    "    print(i)\n",
    "    i=i+1"
   ]
  },
  {
   "cell_type": "code",
   "execution_count": 11,
   "id": "667e5d53",
   "metadata": {},
   "outputs": [
    {
     "name": "stdout",
     "output_type": "stream",
     "text": [
      "enter a number for which you want to display table:7\n",
      "enter staruing value:8\n",
      "enter ending value:15\n",
      "7 x 8 = 56 \n",
      "7 x 9 = 63 \n",
      "7 x 10 = 70 \n",
      "7 x 11 = 77 \n",
      "7 x 12 = 84 \n",
      "7 x 13 = 91 \n",
      "7 x 14 = 98 \n",
      "7 x 15 = 105 \n"
     ]
    }
   ],
   "source": [
    "n = int(input(\"enter a number for which you want to display table:\"))\n",
    "s = int(input(\"enter staruing value:\"))\n",
    "e = int(input(\"enter ending value:\"))\n",
    "for i in range(s,e+1):\n",
    "    print(f\"{n} x {i} = {n*i} \")"
   ]
  },
  {
   "cell_type": "code",
   "execution_count": 10,
   "id": "ff405c62",
   "metadata": {},
   "outputs": [
    {
     "name": "stdout",
     "output_type": "stream",
     "text": [
      "enter a number for which you want to display table:7\n",
      "enter staruing value:8\n",
      "enter ending value:15\n",
      "7 x 8 = 56 \n",
      "7 x 9 = 63 \n",
      "7 x 10 = 70 \n",
      "7 x 11 = 77 \n",
      "7 x 12 = 84 \n",
      "7 x 13 = 91 \n",
      "7 x 14 = 98 \n",
      "7 x 15 = 105 \n"
     ]
    }
   ],
   "source": [
    "n = int(input(\"enter a number for which you want to display table:\"))\n",
    "s = int(input(\"enter staruing value:\"))\n",
    "e = int(input(\"enter ending value:\"))\n",
    "i = s\n",
    "while(i<=e):\n",
    "    print(f\"{n} x {i} = {n*i} \")\n",
    "    i = i+1\n"
   ]
  },
  {
   "cell_type": "markdown",
   "id": "2f0979b6",
   "metadata": {},
   "source": [
    "# Functions in Python\n"
   ]
  },
  {
   "cell_type": "code",
   "execution_count": 13,
   "id": "83e89533",
   "metadata": {},
   "outputs": [],
   "source": [
    "age1 = 9"
   ]
  },
  {
   "cell_type": "code",
   "execution_count": 15,
   "id": "44e44dab",
   "metadata": {},
   "outputs": [],
   "source": [
    "marksofphy = 90"
   ]
  },
  {
   "cell_type": "code",
   "execution_count": 24,
   "id": "f9228492",
   "metadata": {},
   "outputs": [],
   "source": [
    "def print_hello():  # defining a function\n",
    "    print(\"hello usama\") # body of cunction"
   ]
  },
  {
   "cell_type": "code",
   "execution_count": 25,
   "id": "318c6def",
   "metadata": {},
   "outputs": [
    {
     "name": "stdout",
     "output_type": "stream",
     "text": [
      "hello usama\n"
     ]
    }
   ],
   "source": [
    "print_hello() # calling a function "
   ]
  },
  {
   "cell_type": "code",
   "execution_count": 26,
   "id": "ae4b2a19",
   "metadata": {},
   "outputs": [
    {
     "name": "stdout",
     "output_type": "stream",
     "text": [
      "hello usama\n"
     ]
    }
   ],
   "source": [
    "print_hello()"
   ]
  },
  {
   "cell_type": "code",
   "execution_count": 27,
   "id": "c52b5914",
   "metadata": {},
   "outputs": [
    {
     "name": "stdout",
     "output_type": "stream",
     "text": [
      "hello usama\n"
     ]
    }
   ],
   "source": [
    "print_hello()"
   ]
  },
  {
   "cell_type": "code",
   "execution_count": 28,
   "id": "4250b0c7",
   "metadata": {},
   "outputs": [
    {
     "name": "stdout",
     "output_type": "stream",
     "text": [
      "hello usama\n"
     ]
    }
   ],
   "source": [
    "print_hello()"
   ]
  },
  {
   "cell_type": "code",
   "execution_count": 29,
   "id": "2f161572",
   "metadata": {},
   "outputs": [
    {
     "name": "stdout",
     "output_type": "stream",
     "text": [
      "hello usama\n"
     ]
    }
   ],
   "source": [
    "print_hello()"
   ]
  },
  {
   "cell_type": "code",
   "execution_count": 30,
   "id": "ce5ac077",
   "metadata": {},
   "outputs": [
    {
     "name": "stdout",
     "output_type": "stream",
     "text": [
      "hello usama\n"
     ]
    }
   ],
   "source": [
    "print_hello()"
   ]
  },
  {
   "cell_type": "markdown",
   "id": "bb3b33c8",
   "metadata": {},
   "source": [
    "# function with Return value"
   ]
  },
  {
   "cell_type": "code",
   "execution_count": 31,
   "id": "91128176",
   "metadata": {},
   "outputs": [],
   "source": [
    "def sq():  # simple\n",
    "    n = int(input(\"enter a number:\"))\n",
    "    s = n*n\n",
    "    print(\"the square is:\",s)"
   ]
  },
  {
   "cell_type": "code",
   "execution_count": 32,
   "id": "48436a24",
   "metadata": {},
   "outputs": [
    {
     "name": "stdout",
     "output_type": "stream",
     "text": [
      "enter a number:5\n",
      "the square is: 25\n"
     ]
    }
   ],
   "source": [
    "sq()"
   ]
  },
  {
   "cell_type": "code",
   "execution_count": 34,
   "id": "1fd367e0",
   "metadata": {},
   "outputs": [],
   "source": [
    "def sqq(): # function with return value\n",
    "    n = int(input(\"enter a number:\"))\n",
    "    s = n*n\n",
    "    return s\n"
   ]
  },
  {
   "cell_type": "code",
   "execution_count": 35,
   "id": "abbee0d9",
   "metadata": {},
   "outputs": [
    {
     "name": "stdout",
     "output_type": "stream",
     "text": [
      "enter a number:6\n"
     ]
    }
   ],
   "source": [
    "square = sqq()"
   ]
  },
  {
   "cell_type": "code",
   "execution_count": 37,
   "id": "3ad1ae7b",
   "metadata": {},
   "outputs": [
    {
     "name": "stdout",
     "output_type": "stream",
     "text": [
      "the square is: 36\n"
     ]
    }
   ],
   "source": [
    "print(\"the square is:\",square)"
   ]
  },
  {
   "cell_type": "code",
   "execution_count": 49,
   "id": "90cdacd4",
   "metadata": {},
   "outputs": [],
   "source": [
    "def sqqq(n,i): # function with return value and a parameter \n",
    "    s = n*n\n",
    "    print(\"the value of i is:\",i)\n",
    "    return s"
   ]
  },
  {
   "cell_type": "code",
   "execution_count": 50,
   "id": "a4e1a8df",
   "metadata": {},
   "outputs": [
    {
     "name": "stdout",
     "output_type": "stream",
     "text": [
      "enter a number:7\n",
      "the value of i is: 8\n",
      "the square is: 49\n"
     ]
    }
   ],
   "source": [
    "n = int(input(\"enter a number:\"))\n",
    "s = sqqq(n,8)\n",
    "print(\"the square is:\",s)"
   ]
  },
  {
   "cell_type": "code",
   "execution_count": 44,
   "id": "2b41b704",
   "metadata": {},
   "outputs": [
    {
     "data": {
      "text/plain": [
       "64"
      ]
     },
     "execution_count": 44,
     "metadata": {},
     "output_type": "execute_result"
    }
   ],
   "source": [
    "s"
   ]
  },
  {
   "cell_type": "code",
   "execution_count": 51,
   "id": "958715ac",
   "metadata": {},
   "outputs": [],
   "source": [
    "def num_1_input():\n",
    "    n = int(input(\"enter a number:\"))\n",
    "    return n "
   ]
  },
  {
   "cell_type": "code",
   "execution_count": 52,
   "id": "91a7de74",
   "metadata": {},
   "outputs": [],
   "source": [
    "def even_odd(n):\n",
    "    if (n%2== 0 ):\n",
    "        print(\"even\")\n",
    "    else:\n",
    "        print(\"odd\")"
   ]
  },
  {
   "cell_type": "code",
   "execution_count": 53,
   "id": "3ea712e9",
   "metadata": {},
   "outputs": [
    {
     "name": "stdout",
     "output_type": "stream",
     "text": [
      "enter a number:9\n",
      "odd\n"
     ]
    }
   ],
   "source": [
    "num = num_1_input()\n",
    "even_odd(num)"
   ]
  },
  {
   "cell_type": "code",
   "execution_count": 54,
   "id": "fd83f2bf",
   "metadata": {},
   "outputs": [],
   "source": [
    "def pos_neg(n):\n",
    "    if n > 0:\n",
    "        print(\"Pos\")\n",
    "    elif n<0:\n",
    "        print(\"neg\")\n",
    "    else:\n",
    "        print(\"the number is 0\")"
   ]
  },
  {
   "cell_type": "code",
   "execution_count": 57,
   "id": "74d2f202",
   "metadata": {},
   "outputs": [
    {
     "name": "stdout",
     "output_type": "stream",
     "text": [
      "enter a number:-8\n",
      "neg\n"
     ]
    }
   ],
   "source": [
    "num = num_1_input()\n",
    "pos_neg(num)"
   ]
  },
  {
   "cell_type": "code",
   "execution_count": null,
   "id": "5bb3f84b",
   "metadata": {},
   "outputs": [],
   "source": []
  }
 ],
 "metadata": {
  "kernelspec": {
   "display_name": "Python 3 (ipykernel)",
   "language": "python",
   "name": "python3"
  },
  "language_info": {
   "codemirror_mode": {
    "name": "ipython",
    "version": 3
   },
   "file_extension": ".py",
   "mimetype": "text/x-python",
   "name": "python",
   "nbconvert_exporter": "python",
   "pygments_lexer": "ipython3",
   "version": "3.11.5"
  }
 },
 "nbformat": 4,
 "nbformat_minor": 5
}
