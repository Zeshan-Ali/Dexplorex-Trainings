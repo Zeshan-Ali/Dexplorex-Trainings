{
 "cells": [
  {
   "cell_type": "code",
   "execution_count": 4,
   "id": "e9767e52",
   "metadata": {},
   "outputs": [
    {
     "name": "stdout",
     "output_type": "stream",
     "text": [
      "there is an error\n"
     ]
    }
   ],
   "source": [
    "\n",
    "try:\n",
    "    prit(\"hello\")\n",
    "except NameError:\n",
    "    print(\"there is an error\")\n",
    "except:\n",
    "    print(\"other than name error\")"
   ]
  },
  {
   "cell_type": "code",
   "execution_count": 19,
   "id": "0837c624",
   "metadata": {},
   "outputs": [
    {
     "name": "stdout",
     "output_type": "stream",
     "text": [
      "<class 'NameError'>\n"
     ]
    }
   ],
   "source": [
    "import sys\n",
    "try:\n",
    "    prnt(\"hello\")\n",
    "except:\n",
    "    e = sys.exc_info()[0]\n",
    "    print(e)"
   ]
  },
  {
   "cell_type": "code",
   "execution_count": 11,
   "id": "380a4fec",
   "metadata": {},
   "outputs": [
    {
     "ename": "NameError",
     "evalue": "name 'prnt' is not defined",
     "output_type": "error",
     "traceback": [
      "\u001b[1;31m---------------------------------------------------------------------------\u001b[0m",
      "\u001b[1;31mNameError\u001b[0m                                 Traceback (most recent call last)",
      "Cell \u001b[1;32mIn[11], line 1\u001b[0m\n\u001b[1;32m----> 1\u001b[0m prnt(\u001b[38;5;124m\"\u001b[39m\u001b[38;5;124mhello\u001b[39m\u001b[38;5;124m\"\u001b[39m)\n",
      "\u001b[1;31mNameError\u001b[0m: name 'prnt' is not defined"
     ]
    }
   ],
   "source": [
    "prnt(\"hello\")"
   ]
  },
  {
   "cell_type": "code",
   "execution_count": 13,
   "id": "e70f2f5b",
   "metadata": {},
   "outputs": [
    {
     "data": {
      "text/plain": [
       "tuple"
      ]
     },
     "execution_count": 13,
     "metadata": {},
     "output_type": "execute_result"
    }
   ],
   "source": [
    "type(sys.exc_info())"
   ]
  },
  {
   "cell_type": "code",
   "execution_count": 14,
   "id": "55548443",
   "metadata": {},
   "outputs": [],
   "source": [
    "rec1=(1,2,3,3)"
   ]
  },
  {
   "cell_type": "code",
   "execution_count": 16,
   "id": "676ff7d7",
   "metadata": {},
   "outputs": [
    {
     "data": {
      "text/plain": [
       "3"
      ]
     },
     "execution_count": 16,
     "metadata": {},
     "output_type": "execute_result"
    }
   ],
   "source": [
    "rec1[3]"
   ]
  },
  {
   "cell_type": "code",
   "execution_count": 39,
   "id": "8c8d1983",
   "metadata": {},
   "outputs": [],
   "source": [
    "names = open(\"names.txt\",\"w\")\n",
    "names.write(\"new new line\")\n",
    "names.write(\"\\n2nd line\")\n",
    "names.close()"
   ]
  },
  {
   "cell_type": "code",
   "execution_count": 44,
   "id": "d887ceac",
   "metadata": {},
   "outputs": [],
   "source": [
    "names = open(\"names.txt\",\"r\")\n",
    "content = names.readlines()\n",
    "names.close()"
   ]
  },
  {
   "cell_type": "code",
   "execution_count": 45,
   "id": "6fa8acd7",
   "metadata": {},
   "outputs": [
    {
     "data": {
      "text/plain": [
       "list"
      ]
     },
     "execution_count": 45,
     "metadata": {},
     "output_type": "execute_result"
    }
   ],
   "source": [
    "type(content)"
   ]
  },
  {
   "cell_type": "code",
   "execution_count": 46,
   "id": "5c66152c",
   "metadata": {},
   "outputs": [
    {
     "name": "stdout",
     "output_type": "stream",
     "text": [
      "new new line\n",
      "\n",
      "2nd line\n",
      "\n",
      " third new line\n",
      "\n",
      " 4th line\n",
      "\n",
      " third new line\n",
      "\n",
      " 4th line\n",
      "\n",
      " third new line\n",
      "\n",
      " 4th line\n",
      "\n",
      " third new line\n",
      "\n",
      " 4th line\n"
     ]
    }
   ],
   "source": [
    "for i in content:\n",
    "    print(i)"
   ]
  },
  {
   "cell_type": "code",
   "execution_count": 48,
   "id": "9b292819",
   "metadata": {},
   "outputs": [],
   "source": [
    "names = open(\"names.txt\",\"w\")\n",
    "names.write(\"\\n third new line\")\n",
    "names.write(\"\\n 4th line\")\n",
    "names.close()"
   ]
  },
  {
   "cell_type": "code",
   "execution_count": 53,
   "id": "24977768",
   "metadata": {},
   "outputs": [
    {
     "name": "stdout",
     "output_type": "stream",
     "text": [
      "Enter a namezesha\n",
      "Enter a nameusama\n",
      "Enter a namerizwan\n",
      "Enter a namearsslana\n",
      "Enter a nameali\n"
     ]
    }
   ],
   "source": [
    "for i in range(5):\n",
    "    name = input(\"Enter a name\")\n",
    "    with open(\"F:/names.txt\",\"a\") as names:\n",
    "        names.write(name)\n",
    "        names.write(\"\\n\")"
   ]
  },
  {
   "cell_type": "code",
   "execution_count": 56,
   "id": "2c2b81f0",
   "metadata": {},
   "outputs": [
    {
     "name": "stdout",
     "output_type": "stream",
     "text": [
      "arsalan\n",
      "\n",
      "zesha\n",
      "\n",
      "usama\n",
      "\n",
      "rizwan\n",
      "\n",
      "arsslana\n",
      "\n",
      "ali\n",
      "\n"
     ]
    }
   ],
   "source": [
    "with open(\"F:/names.txt\",\"r\") as names:\n",
    "    cont = names.readlines()\n",
    "    for i in cont:\n",
    "        print(i)"
   ]
  },
  {
   "cell_type": "code",
   "execution_count": null,
   "id": "8fed9f00",
   "metadata": {},
   "outputs": [],
   "source": []
  }
 ],
 "metadata": {
  "kernelspec": {
   "display_name": "Python 3 (ipykernel)",
   "language": "python",
   "name": "python3"
  },
  "language_info": {
   "codemirror_mode": {
    "name": "ipython",
    "version": 3
   },
   "file_extension": ".py",
   "mimetype": "text/x-python",
   "name": "python",
   "nbconvert_exporter": "python",
   "pygments_lexer": "ipython3",
   "version": "3.11.5"
  }
 },
 "nbformat": 4,
 "nbformat_minor": 5
}
