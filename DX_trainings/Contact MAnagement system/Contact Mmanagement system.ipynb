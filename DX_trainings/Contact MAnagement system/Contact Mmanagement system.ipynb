{
 "cells": [
  {
   "cell_type": "markdown",
   "id": "d9e07b15",
   "metadata": {},
   "source": [
    "# Contact Management system\n",
    "\n",
    "1.\tSetup\n",
    "•\tSet up your development environment with Python installed.\n",
    "2.\tData Structure\n",
    "•\tDecide on a data structure to store contact information. A dictionary is a good choice, where the keys are names and the values are contact details.\n",
    "3.\tMenu System\n",
    "•\tCreate a simple menu system to interact with the user and perform various actions.\n",
    "4.\tAdding Contacts\n",
    "•\tImplement functionality to add new contacts.\n",
    "5.\tViewing Contacts\n",
    "•\tImplement functionality to view the list of contacts.\n",
    "6.\tSearching Contacts\n",
    "•\tImplement functionality to search for contacts.\n",
    "7.\tEditing Contacts\n",
    "•\tImplement functionality to edit contact information.\n",
    "8.\tDeleting Contacts\n",
    "Impliment functionality to delete contact information\n"
   ]
  },
  {
   "cell_type": "code",
   "execution_count": 1,
   "id": "e8b4bc8a",
   "metadata": {},
   "outputs": [],
   "source": [
    "contacts = {}"
   ]
  },
  {
   "cell_type": "code",
   "execution_count": 2,
   "id": "c55732e3",
   "metadata": {},
   "outputs": [],
   "source": [
    "def show_menu():\n",
    "    print(\"Contact Management System\")\n",
    "    print(\"1. Add Contact\")\n",
    "    print(\"2. View Contacts\")\n",
    "    print(\"3. Search Contact\")\n",
    "    print(\"4. Edit Contact\")\n",
    "    print(\"5. Delete Contact\")\n",
    "    print(\"6. Exit\")\n"
   ]
  },
  {
   "cell_type": "code",
   "execution_count": 3,
   "id": "90995808",
   "metadata": {},
   "outputs": [],
   "source": [
    "fruits = {}"
   ]
  },
  {
   "cell_type": "code",
   "execution_count": 4,
   "id": "4817fc02",
   "metadata": {},
   "outputs": [],
   "source": [
    "fruits[1]=\"Mango\""
   ]
  },
  {
   "cell_type": "code",
   "execution_count": 5,
   "id": "1a46dc41",
   "metadata": {},
   "outputs": [
    {
     "data": {
      "text/plain": [
       "{1: 'Mango'}"
      ]
     },
     "execution_count": 5,
     "metadata": {},
     "output_type": "execute_result"
    }
   ],
   "source": [
    "fruits"
   ]
  },
  {
   "cell_type": "code",
   "execution_count": 6,
   "id": "24750f12",
   "metadata": {},
   "outputs": [],
   "source": [
    "fruits[2]= \"Orange\""
   ]
  },
  {
   "cell_type": "code",
   "execution_count": 7,
   "id": "2476bbc2",
   "metadata": {},
   "outputs": [
    {
     "data": {
      "text/plain": [
       "{1: 'Mango', 2: 'Orange'}"
      ]
     },
     "execution_count": 7,
     "metadata": {},
     "output_type": "execute_result"
    }
   ],
   "source": [
    "fruits"
   ]
  },
  {
   "cell_type": "code",
   "execution_count": 8,
   "id": "6317a486",
   "metadata": {},
   "outputs": [
    {
     "name": "stdout",
     "output_type": "stream",
     "text": [
      "enter name of fruitbanana\n",
      "enter name of fruitapple\n",
      "enter name of fruitgauava\n",
      "enter name of fruitgrapes\n"
     ]
    }
   ],
   "source": [
    "for i in range(1,5):\n",
    "    f = input(\"enter name of fruit\")\n",
    "    fruits[i]=f"
   ]
  },
  {
   "cell_type": "code",
   "execution_count": 9,
   "id": "109c136c",
   "metadata": {},
   "outputs": [
    {
     "data": {
      "text/plain": [
       "{1: 'banana', 2: 'apple', 3: 'gauava', 4: 'grapes'}"
      ]
     },
     "execution_count": 9,
     "metadata": {},
     "output_type": "execute_result"
    }
   ],
   "source": [
    "fruits"
   ]
  },
  {
   "cell_type": "code",
   "execution_count": 28,
   "id": "cbf3e4fc",
   "metadata": {},
   "outputs": [],
   "source": [
    "def add_contact():\n",
    "    name = input(\"Enter name: \")\n",
    "    phone = input(\"Enter phone number: \")\n",
    "    contacts[name] = phone\n",
    "    print(\"Contact added successfully!\")\n"
   ]
  },
  {
   "cell_type": "code",
   "execution_count": 29,
   "id": "3fea28b9",
   "metadata": {},
   "outputs": [],
   "source": [
    "def view_contacts():\n",
    "    if contacts:\n",
    "        print(\"Contacts:\")\n",
    "        for name in contacts.items():\n",
    "            print(f\"Name: {name} \")\n",
    "    else:\n",
    "        print(\"No contacts found.\")\n"
   ]
  },
  {
   "cell_type": "code",
   "execution_count": 30,
   "id": "a3cf7fa5",
   "metadata": {},
   "outputs": [],
   "source": [
    "def search_contact():\n",
    "    name = input(\"Enter name to search: \")\n",
    "    if name in contacts:\n",
    "        details = contacts[name]\n",
    "        print(f\"Name: {name} \")\n",
    "    else:\n",
    "        print(\"Contact not found.\")\n"
   ]
  },
  {
   "cell_type": "code",
   "execution_count": 31,
   "id": "54b82b65",
   "metadata": {},
   "outputs": [],
   "source": [
    "def edit_contact():\n",
    "    name = input(\"Enter name to edit: \")\n",
    "    if name in contacts:\n",
    "        print(f\"Editing contact: {name}\")\n",
    "        phone = input(\"Enter new phone number: \")\n",
    "        contacts[name] =  phone\n",
    "        print(\"Contact updated successfully!\")\n",
    "    else:\n",
    "        print(\"Contact not found.\")\n"
   ]
  },
  {
   "cell_type": "code",
   "execution_count": 32,
   "id": "c417ca44",
   "metadata": {},
   "outputs": [],
   "source": [
    "def delete_contact():\n",
    "    name = input(\"Enter name to delete: \")\n",
    "    if name in contacts:\n",
    "        del contacts[name]\n",
    "        print(\"Contact deleted successfully!\")\n",
    "    else:\n",
    "        print(\"Contact not found.\")\n"
   ]
  },
  {
   "cell_type": "code",
   "execution_count": 33,
   "id": "8d437bc0",
   "metadata": {},
   "outputs": [
    {
     "name": "stdout",
     "output_type": "stream",
     "text": [
      "Contact Management System\n",
      "1. Add Contact\n",
      "2. View Contacts\n",
      "3. Search Contact\n",
      "4. Edit Contact\n",
      "5. Delete Contact\n",
      "6. Exit\n",
      "Enter your choice: 1\n",
      "Enter name: usman\n",
      "Enter phone number: 030309039\n",
      "Contact added successfully!\n",
      "Contact Management System\n",
      "1. Add Contact\n",
      "2. View Contacts\n",
      "3. Search Contact\n",
      "4. Edit Contact\n",
      "5. Delete Contact\n",
      "6. Exit\n",
      "Enter your choice: 2\n",
      "Contacts:\n",
      "Name: ('ali', '03042829829') \n",
      "Name: ('usman', '030309039') \n",
      "Contact Management System\n",
      "1. Add Contact\n",
      "2. View Contacts\n",
      "3. Search Contact\n",
      "4. Edit Contact\n",
      "5. Delete Contact\n",
      "6. Exit\n",
      "Enter your choice: 4\n",
      "Enter name to edit: usman\n",
      "Editing contact: usman\n",
      "Enter new phone number: 03783738\n",
      "Contact updated successfully!\n",
      "Contact Management System\n",
      "1. Add Contact\n",
      "2. View Contacts\n",
      "3. Search Contact\n",
      "4. Edit Contact\n",
      "5. Delete Contact\n",
      "6. Exit\n",
      "Enter your choice: 6\n",
      "Exiting the program.\n"
     ]
    }
   ],
   "source": [
    "while True:\n",
    "    show_menu()\n",
    "    choice = input(\"Enter your choice: \")\n",
    "\n",
    "    if choice == '1':\n",
    "        add_contact()\n",
    "    elif choice == '2':\n",
    "        view_contacts()\n",
    "    elif choice == '3':\n",
    "        search_contact()\n",
    "    elif choice == '4':\n",
    "        edit_contact()\n",
    "    elif choice == '5':\n",
    "        delete_contact()\n",
    "    elif choice == '6':\n",
    "        print(\"Exiting the program.\")\n",
    "        break\n",
    "    else:\n",
    "        print(\"Invalid choice. Please select a valid option.\")\n"
   ]
  },
  {
   "cell_type": "code",
   "execution_count": 16,
   "id": "b9fe0034",
   "metadata": {},
   "outputs": [
    {
     "data": {
      "text/plain": [
       "{'ahmad': {'Phone': '0308928298', 'Email': 'abc@yahoo.com'}}"
      ]
     },
     "execution_count": 16,
     "metadata": {},
     "output_type": "execute_result"
    }
   ],
   "source": []
  },
  {
   "cell_type": "code",
   "execution_count": 25,
   "id": "434e8735",
   "metadata": {},
   "outputs": [
    {
     "name": "stdout",
     "output_type": "stream",
     "text": [
      "('ahmad', {'Phone': '0308928298', 'Email': 'abc@yahoo.com'})\n",
      "('ali', '03042829829')\n"
     ]
    }
   ],
   "source": [
    "for i in contacts.items():\n",
    "    print(i)"
   ]
  },
  {
   "cell_type": "code",
   "execution_count": null,
   "id": "ab9e9339",
   "metadata": {},
   "outputs": [],
   "source": []
  }
 ],
 "metadata": {
  "kernelspec": {
   "display_name": "Python 3 (ipykernel)",
   "language": "python",
   "name": "python3"
  },
  "language_info": {
   "codemirror_mode": {
    "name": "ipython",
    "version": 3
   },
   "file_extension": ".py",
   "mimetype": "text/x-python",
   "name": "python",
   "nbconvert_exporter": "python",
   "pygments_lexer": "ipython3",
   "version": "3.9.7"
  }
 },
 "nbformat": 4,
 "nbformat_minor": 5
}
