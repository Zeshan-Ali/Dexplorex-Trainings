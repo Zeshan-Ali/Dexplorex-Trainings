{
 "cells": [
  {
   "cell_type": "markdown",
   "id": "24ab8815",
   "metadata": {},
   "source": [
    "# python revsion"
   ]
  },
  {
   "cell_type": "code",
   "execution_count": 14,
   "id": "9c241148",
   "metadata": {},
   "outputs": [
    {
     "ename": "SyntaxError",
     "evalue": "EOL while scanning string literal (616276383.py, line 1)",
     "output_type": "error",
     "traceback": [
      "\u001b[1;36m  File \u001b[1;32m\"C:\\Users\\Zeeshan\\AppData\\Local\\Temp\\ipykernel_1848\\616276383.py\"\u001b[1;36m, line \u001b[1;32m1\u001b[0m\n\u001b[1;33m    print(\"hello world i am learning python hello again\u001b[0m\n\u001b[1;37m                                                       ^\u001b[0m\n\u001b[1;31mSyntaxError\u001b[0m\u001b[1;31m:\u001b[0m EOL while scanning string literal\n"
     ]
    }
   ],
   "source": [
    "print(\"hello world i am learning python hello again jhdjhcjh\")"
   ]
  },
  {
   "cell_type": "code",
   "execution_count": 16,
   "id": "d7e0ab9a",
   "metadata": {},
   "outputs": [
    {
     "name": "stdout",
     "output_type": "stream",
     "text": [
      "hello world i am \n",
      " leanring python    \n",
      " hello again\n"
     ]
    }
   ],
   "source": [
    "print('hello world i am \\n leanring python    \\n hello again')"
   ]
  },
  {
   "cell_type": "code",
   "execution_count": 17,
   "id": "07ae074f",
   "metadata": {},
   "outputs": [
    {
     "name": "stdout",
     "output_type": "stream",
     "text": [
      "i am learning python\n",
      "       hello again\n",
      "       hello agian thord time\n",
      "       hdjhdjhdj\n"
     ]
    }
   ],
   "source": [
    "print('''i am learning python\n",
    "       hello again\n",
    "       hello agian thord time\n",
    "       hdjhdjhdj''')"
   ]
  },
  {
   "cell_type": "code",
   "execution_count": 6,
   "id": "6a449438",
   "metadata": {},
   "outputs": [
    {
     "name": "stdout",
     "output_type": "stream",
     "text": [
      "i am leanring python\n"
     ]
    }
   ],
   "source": [
    "print(\"\"\"i am leanring python\"\"\")"
   ]
  },
  {
   "cell_type": "code",
   "execution_count": 18,
   "id": "db861594",
   "metadata": {},
   "outputs": [],
   "source": [
    "marks = 56"
   ]
  },
  {
   "cell_type": "code",
   "execution_count": 19,
   "id": "f8916000",
   "metadata": {},
   "outputs": [
    {
     "data": {
      "text/plain": [
       "56"
      ]
     },
     "execution_count": 19,
     "metadata": {},
     "output_type": "execute_result"
    }
   ],
   "source": [
    "marks"
   ]
  },
  {
   "cell_type": "markdown",
   "id": "fbeb5352",
   "metadata": {},
   "source": [
    "## data types \n",
    " - numeric\n",
    "    - integer (whole numbers ) -> int\n",
    "    - float (real numbers) fractions , float\n",
    " - string\n",
    "  - character , a, b, @, *, \n",
    "  - string  ( ali, d explorex, address)"
   ]
  },
  {
   "cell_type": "code",
   "execution_count": 27,
   "id": "9da1b594",
   "metadata": {},
   "outputs": [],
   "source": [
    "a = 3  # initialization the assigning a value to variable"
   ]
  },
  {
   "cell_type": "code",
   "execution_count": 30,
   "id": "49eed2bb",
   "metadata": {},
   "outputs": [
    {
     "data": {
      "text/plain": [
       "int"
      ]
     },
     "execution_count": 30,
     "metadata": {},
     "output_type": "execute_result"
    }
   ],
   "source": [
    "type(a) # this lineill tell about type of variable a   inline comment, single line comment"
   ]
  },
  {
   "cell_type": "code",
   "execution_count": 23,
   "id": "c0178cb0",
   "metadata": {},
   "outputs": [],
   "source": [
    "b = 7"
   ]
  },
  {
   "cell_type": "code",
   "execution_count": 24,
   "id": "86ecc8d2",
   "metadata": {},
   "outputs": [
    {
     "data": {
      "text/plain": [
       "int"
      ]
     },
     "execution_count": 24,
     "metadata": {},
     "output_type": "execute_result"
    }
   ],
   "source": [
    "type(b)"
   ]
  },
  {
   "cell_type": "code",
   "execution_count": 35,
   "id": "5c66449f",
   "metadata": {},
   "outputs": [],
   "source": [
    "c = 'Ali' # string are always store in quotations\n",
    "d = \"ahmad\"\n"
   ]
  },
  {
   "cell_type": "code",
   "execution_count": 34,
   "id": "4bfdb1b4",
   "metadata": {},
   "outputs": [
    {
     "data": {
      "text/plain": [
       "str"
      ]
     },
     "execution_count": 34,
     "metadata": {},
     "output_type": "execute_result"
    }
   ],
   "source": [
    "type(c)"
   ]
  },
  {
   "cell_type": "code",
   "execution_count": 38,
   "id": "0c363fa0",
   "metadata": {},
   "outputs": [
    {
     "name": "stdout",
     "output_type": "stream",
     "text": [
      "Ali\n"
     ]
    }
   ],
   "source": [
    "print(c)"
   ]
  },
  {
   "cell_type": "code",
   "execution_count": 39,
   "id": "5b25ea97",
   "metadata": {},
   "outputs": [
    {
     "name": "stdout",
     "output_type": "stream",
     "text": [
      "the name is ahmad\n"
     ]
    }
   ],
   "source": [
    "print(\"the name is\",d)"
   ]
  },
  {
   "cell_type": "code",
   "execution_count": 40,
   "id": "4636c17a",
   "metadata": {},
   "outputs": [],
   "source": [
    "greeting = \"hello there ?\""
   ]
  },
  {
   "cell_type": "code",
   "execution_count": 42,
   "id": "1b36a346",
   "metadata": {},
   "outputs": [
    {
     "name": "stdout",
     "output_type": "stream",
     "text": [
      "hello there ?ahmad\n"
     ]
    }
   ],
   "source": [
    "print(greeting + d)  # concatenation"
   ]
  },
  {
   "cell_type": "code",
   "execution_count": 43,
   "id": "75919fe6",
   "metadata": {},
   "outputs": [],
   "source": [
    "a=3\n",
    "b=6\n",
    "c=a+b"
   ]
  },
  {
   "cell_type": "code",
   "execution_count": 46,
   "id": "e156c8fb",
   "metadata": {},
   "outputs": [
    {
     "name": "stdout",
     "output_type": "stream",
     "text": [
      "the sum is: 9\n"
     ]
    }
   ],
   "source": [
    "print(\"the sum is:\", c)"
   ]
  },
  {
   "cell_type": "code",
   "execution_count": 47,
   "id": "bc65aa16",
   "metadata": {},
   "outputs": [
    {
     "data": {
      "text/plain": [
       "9"
      ]
     },
     "execution_count": 47,
     "metadata": {},
     "output_type": "execute_result"
    }
   ],
   "source": [
    "3+6"
   ]
  },
  {
   "cell_type": "code",
   "execution_count": 50,
   "id": "8e9a8385",
   "metadata": {},
   "outputs": [
    {
     "data": {
      "text/plain": [
       "2.0"
      ]
     },
     "execution_count": 50,
     "metadata": {},
     "output_type": "execute_result"
    }
   ],
   "source": [
    "6/3"
   ]
  },
  {
   "cell_type": "markdown",
   "id": "08e05419",
   "metadata": {},
   "source": []
  },
  {
   "cell_type": "code",
   "execution_count": 51,
   "id": "fb5a5ffb",
   "metadata": {},
   "outputs": [
    {
     "data": {
      "text/plain": [
       "18"
      ]
     },
     "execution_count": 51,
     "metadata": {},
     "output_type": "execute_result"
    }
   ],
   "source": [
    "6*3"
   ]
  },
  {
   "cell_type": "code",
   "execution_count": 52,
   "id": "874a618d",
   "metadata": {},
   "outputs": [
    {
     "data": {
      "text/plain": [
       "8"
      ]
     },
     "execution_count": 52,
     "metadata": {},
     "output_type": "execute_result"
    }
   ],
   "source": [
    "2**3\n"
   ]
  },
  {
   "cell_type": "code",
   "execution_count": 53,
   "id": "99a95a9b",
   "metadata": {},
   "outputs": [
    {
     "data": {
      "text/plain": [
       "16"
      ]
     },
     "execution_count": 53,
     "metadata": {},
     "output_type": "execute_result"
    }
   ],
   "source": [
    "4**2 # exponent operator "
   ]
  },
  {
   "cell_type": "code",
   "execution_count": 54,
   "id": "f6d959b4",
   "metadata": {},
   "outputs": [
    {
     "data": {
      "text/plain": [
       "43046721"
      ]
     },
     "execution_count": 54,
     "metadata": {},
     "output_type": "execute_result"
    }
   ],
   "source": [
    "3**16"
   ]
  },
  {
   "cell_type": "code",
   "execution_count": 55,
   "id": "e240c75a",
   "metadata": {},
   "outputs": [
    {
     "data": {
      "text/plain": [
       "2401"
      ]
     },
     "execution_count": 55,
     "metadata": {},
     "output_type": "execute_result"
    }
   ],
   "source": [
    "x=7\n",
    "x**4\n"
   ]
  },
  {
   "cell_type": "code",
   "execution_count": 62,
   "id": "d29239fc",
   "metadata": {},
   "outputs": [
    {
     "data": {
      "text/plain": [
       "0"
      ]
     },
     "execution_count": 62,
     "metadata": {},
     "output_type": "execute_result"
    }
   ],
   "source": [
    "6 % 2 # reaminder operator"
   ]
  },
  {
   "cell_type": "code",
   "execution_count": 61,
   "id": "9a057b6e",
   "metadata": {},
   "outputs": [
    {
     "data": {
      "text/plain": [
       "2.5"
      ]
     },
     "execution_count": 61,
     "metadata": {},
     "output_type": "execute_result"
    }
   ],
   "source": [
    "5/2"
   ]
  },
  {
   "cell_type": "markdown",
   "id": "9bb282bb",
   "metadata": {},
   "source": [
    "### arithmetic operator\n",
    "-  (+   sum)\n",
    "- (-  sub)\n",
    "- (*  mul)\n",
    "- ( /  div) \n",
    "- ( %  remainder)\n",
    "- ( ** power)"
   ]
  },
  {
   "cell_type": "code",
   "execution_count": 64,
   "id": "bb865c4d",
   "metadata": {},
   "outputs": [
    {
     "data": {
      "text/plain": [
       "5"
      ]
     },
     "execution_count": 64,
     "metadata": {},
     "output_type": "execute_result"
    }
   ],
   "source": [
    "2+3  # 2,3 operand, + operator"
   ]
  },
  {
   "cell_type": "markdown",
   "id": "1a4be4b4",
   "metadata": {},
   "source": [
    "# comparison operator\n",
    " - ( >\n",
    " - ( <\n",
    " - ( <=\n",
    " - ( >=\n",
    " - (==\n",
    " - ( !=\n",
    " \n"
   ]
  },
  {
   "cell_type": "code",
   "execution_count": 65,
   "id": "9e57091b",
   "metadata": {},
   "outputs": [
    {
     "data": {
      "text/plain": [
       "True"
      ]
     },
     "execution_count": 65,
     "metadata": {},
     "output_type": "execute_result"
    }
   ],
   "source": [
    "5 > 3"
   ]
  },
  {
   "cell_type": "code",
   "execution_count": 66,
   "id": "3f14713c",
   "metadata": {},
   "outputs": [
    {
     "data": {
      "text/plain": [
       "False"
      ]
     },
     "execution_count": 66,
     "metadata": {},
     "output_type": "execute_result"
    }
   ],
   "source": [
    "4<3"
   ]
  },
  {
   "cell_type": "code",
   "execution_count": 67,
   "id": "cb724a44",
   "metadata": {},
   "outputs": [
    {
     "data": {
      "text/plain": [
       "False"
      ]
     },
     "execution_count": 67,
     "metadata": {},
     "output_type": "execute_result"
    }
   ],
   "source": [
    "5==3"
   ]
  },
  {
   "cell_type": "code",
   "execution_count": 68,
   "id": "2d8b31f9",
   "metadata": {},
   "outputs": [
    {
     "data": {
      "text/plain": [
       "True"
      ]
     },
     "execution_count": 68,
     "metadata": {},
     "output_type": "execute_result"
    }
   ],
   "source": [
    "4!=5"
   ]
  },
  {
   "cell_type": "code",
   "execution_count": 70,
   "id": "8f707a19",
   "metadata": {},
   "outputs": [
    {
     "data": {
      "text/plain": [
       "True"
      ]
     },
     "execution_count": 70,
     "metadata": {},
     "output_type": "execute_result"
    }
   ],
   "source": [
    "10 >= 9"
   ]
  },
  {
   "cell_type": "markdown",
   "id": "0c0a09bc",
   "metadata": {},
   "source": [
    "# logical\n",
    "- and ( its final result true if all given condotions are true)\n",
    "- or (its final result true if any of the given conditions aree true)\n"
   ]
  },
  {
   "cell_type": "code",
   "execution_count": 72,
   "id": "e9e642a6",
   "metadata": {},
   "outputs": [
    {
     "data": {
      "text/plain": [
       "False"
      ]
     },
     "execution_count": 72,
     "metadata": {},
     "output_type": "execute_result"
    }
   ],
   "source": [
    "5 > 3 and 4 > 7"
   ]
  },
  {
   "cell_type": "code",
   "execution_count": 73,
   "id": "48ba9372",
   "metadata": {},
   "outputs": [
    {
     "data": {
      "text/plain": [
       "True"
      ]
     },
     "execution_count": 73,
     "metadata": {},
     "output_type": "execute_result"
    }
   ],
   "source": [
    "5>3 or 4>7"
   ]
  },
  {
   "cell_type": "code",
   "execution_count": 79,
   "id": "9b09543b",
   "metadata": {},
   "outputs": [
    {
     "name": "stdout",
     "output_type": "stream",
     "text": [
      "aony number dakhil kren:4\n",
      "10\n"
     ]
    }
   ],
   "source": [
    "marks = int(input(\"aony number dakhil kren:\")) # input finction always return va;lue in string\n",
    "print( marks + 6)"
   ]
  },
  {
   "cell_type": "code",
   "execution_count": 81,
   "id": "22a03187",
   "metadata": {},
   "outputs": [
    {
     "name": "stdout",
     "output_type": "stream",
     "text": [
      "Please enter your name:ali\n",
      "hello welcome, ali\n"
     ]
    }
   ],
   "source": [
    "name = input(\"Please enter your name:\")\n",
    "print(\"hello welcome,\",name)"
   ]
  },
  {
   "cell_type": "markdown",
   "id": "22d893e6",
   "metadata": {},
   "source": [
    "# conditional structure \n",
    "- if\n",
    "- if else\n",
    "- if-elif\n",
    "- nested if"
   ]
  },
  {
   "cell_type": "code",
   "execution_count": 85,
   "id": "6580a776",
   "metadata": {},
   "outputs": [
    {
     "name": "stdout",
     "output_type": "stream",
     "text": [
      "Please enter your marks:45\n",
      "mubarak ho ab b bike he but doodh bechny k lye\n"
     ]
    }
   ],
   "source": [
    "marks = int(input(\"Please enter your marks:\"))\n",
    "if (marks > 70):\n",
    "    print(\"Mubarak ho new bike\")\n",
    "else:\n",
    "    print(\"mubarak ho ab b bike he but doodh bechny k lye\")"
   ]
  },
  {
   "cell_type": "code",
   "execution_count": 91,
   "id": "c572834e",
   "metadata": {},
   "outputs": [
    {
     "name": "stdout",
     "output_type": "stream",
     "text": [
      "Please enter your age:44\n",
      "you cant become PM\n"
     ]
    }
   ],
   "source": [
    "age= int(input(\"Please enter your age:\"))\n",
    "if(age >=45):\n",
    "    print(\"you can become PM\")\n",
    "else:\n",
    "    print(\"you cant become PM\")"
   ]
  },
  {
   "cell_type": "code",
   "execution_count": 95,
   "id": "41f3502c",
   "metadata": {},
   "outputs": [
    {
     "name": "stdout",
     "output_type": "stream",
     "text": [
      "Please enter your percentage:21\n",
      "you are nalaiq , or enter correct percentage\n"
     ]
    }
   ],
   "source": [
    "perc = float(input(\"Please enter your percentage:\"))\n",
    "\n",
    "if(perc >= 80):\n",
    "    print(\"your grade is A\")\n",
    "elif ( perc >= 70):\n",
    "    print(\"your grade is B\")\n",
    "elif ( perc >= 60):\n",
    "    print(\"your grade is c\")\n",
    "elif ( perc >= 50):\n",
    "    print(\"your grade is d\")\n",
    "elif ( perc >= 40):\n",
    "    print(\"your grade is e\")\n",
    "elif ( perc >= 30):\n",
    "    print(\"your grade is f \")\n",
    "else:\n",
    "    print(\"you are nalaiq , or enter correct percentage\")"
   ]
  },
  {
   "cell_type": "code",
   "execution_count": null,
   "id": "4a1d1fb7",
   "metadata": {},
   "outputs": [],
   "source": []
  }
 ],
 "metadata": {
  "kernelspec": {
   "display_name": "Python 3 (ipykernel)",
   "language": "python",
   "name": "python3"
  },
  "language_info": {
   "codemirror_mode": {
    "name": "ipython",
    "version": 3
   },
   "file_extension": ".py",
   "mimetype": "text/x-python",
   "name": "python",
   "nbconvert_exporter": "python",
   "pygments_lexer": "ipython3",
   "version": "3.9.7"
  }
 },
 "nbformat": 4,
 "nbformat_minor": 5
}
