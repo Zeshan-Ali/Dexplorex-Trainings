{
 "cells": [
  {
   "cell_type": "code",
   "execution_count": null,
   "id": "170648b4",
   "metadata": {},
   "outputs": [],
   "source": [
    "print(\"Hello bcho i am in jupyter notebook\") # this line ios for print function"
   ]
  },
  {
   "cell_type": "code",
   "execution_count": null,
   "id": "6288ff91",
   "metadata": {},
   "outputs": [],
   "source": [
    "a=11"
   ]
  },
  {
   "cell_type": "code",
   "execution_count": null,
   "id": "31cc4163",
   "metadata": {},
   "outputs": [],
   "source": [
    "a"
   ]
  },
  {
   "cell_type": "code",
   "execution_count": null,
   "id": "e70dcaae",
   "metadata": {},
   "outputs": [],
   "source": [
    "b=5"
   ]
  },
  {
   "cell_type": "code",
   "execution_count": null,
   "id": "70b48648",
   "metadata": {},
   "outputs": [],
   "source": [
    "b"
   ]
  },
  {
   "cell_type": "code",
   "execution_count": null,
   "id": "9fe69e24",
   "metadata": {},
   "outputs": [],
   "source": [
    "c=a+b\n"
   ]
  },
  {
   "cell_type": "code",
   "execution_count": null,
   "id": "955f2a89",
   "metadata": {},
   "outputs": [],
   "source": [
    "print(\"the sum of a and b is :\", ab)"
   ]
  },
  {
   "cell_type": "code",
   "execution_count": null,
   "id": "674564aa",
   "metadata": {},
   "outputs": [],
   "source": [
    "b**3   # this line is fpr exponent working\n",
    "\n",
    "#this line is for exp working"
   ]
  },
  {
   "cell_type": "markdown",
   "id": "91d4aa44",
   "metadata": {},
   "source": [
    "# variable adn strings \n"
   ]
  },
  {
   "cell_type": "code",
   "execution_count": null,
   "id": "b9394316",
   "metadata": {},
   "outputs": [],
   "source": [
    "variable_name = 234"
   ]
  },
  {
   "cell_type": "code",
   "execution_count": null,
   "id": "339604d8",
   "metadata": {},
   "outputs": [],
   "source": [
    "type(variable_name)"
   ]
  },
  {
   "cell_type": "code",
   "execution_count": null,
   "id": "75566adc",
   "metadata": {},
   "outputs": [],
   "source": [
    "greetings = \"Hello welcome to our office   \""
   ]
  },
  {
   "cell_type": "code",
   "execution_count": null,
   "id": "83429926",
   "metadata": {},
   "outputs": [],
   "source": [
    "type(greetings)"
   ]
  },
  {
   "cell_type": "code",
   "execution_count": null,
   "id": "690ec507",
   "metadata": {},
   "outputs": [],
   "source": [
    "print(greetings)"
   ]
  },
  {
   "cell_type": "code",
   "execution_count": null,
   "id": "67a4cbc6",
   "metadata": {},
   "outputs": [],
   "source": [
    "print(\"hello welcome to our office\")"
   ]
  },
  {
   "cell_type": "code",
   "execution_count": null,
   "id": "1f2eca99",
   "metadata": {},
   "outputs": [],
   "source": [
    "thanks = 'thank u for you coming'"
   ]
  },
  {
   "cell_type": "code",
   "execution_count": null,
   "id": "b9ddf4e4",
   "metadata": {},
   "outputs": [],
   "source": [
    "print(greetings + thanks)   # concatenation"
   ]
  },
  {
   "cell_type": "code",
   "execution_count": null,
   "id": "da15384d",
   "metadata": {},
   "outputs": [],
   "source": [
    "print(2+thanks)"
   ]
  },
  {
   "cell_type": "code",
   "execution_count": null,
   "id": "7d54d16d",
   "metadata": {},
   "outputs": [],
   "source": [
    "question= \"what's your age\"  # string"
   ]
  },
  {
   "cell_type": "code",
   "execution_count": null,
   "id": "be2f7a5e",
   "metadata": {},
   "outputs": [],
   "source": [
    "print(question)"
   ]
  },
  {
   "cell_type": "code",
   "execution_count": null,
   "id": "fdb0620d",
   "metadata": {},
   "outputs": [],
   "source": [
    "ans = 29  # int \n",
    "type(ans)"
   ]
  },
  {
   "cell_type": "code",
   "execution_count": null,
   "id": "e163de5c",
   "metadata": {},
   "outputs": [],
   "source": [
    "print(question+ \"   \" + str(ans))"
   ]
  },
  {
   "cell_type": "code",
   "execution_count": null,
   "id": "6bade5eb",
   "metadata": {},
   "outputs": [],
   "source": [
    "print(\"the answer is\",ans)"
   ]
  },
  {
   "cell_type": "code",
   "execution_count": null,
   "id": "fb875b45",
   "metadata": {},
   "outputs": [],
   "source": [
    "str(ans)"
   ]
  },
  {
   "cell_type": "code",
   "execution_count": null,
   "id": "f293fd69",
   "metadata": {},
   "outputs": [],
   "source": [
    "greetings\n"
   ]
  },
  {
   "cell_type": "code",
   "execution_count": null,
   "id": "574025b1",
   "metadata": {},
   "outputs": [],
   "source": [
    "str(ans)+str(3)\n"
   ]
  },
  {
   "cell_type": "code",
   "execution_count": null,
   "id": "2a2f2f52",
   "metadata": {},
   "outputs": [],
   "source": [
    "ans+3"
   ]
  },
  {
   "cell_type": "code",
   "execution_count": null,
   "id": "0cc7e91e",
   "metadata": {},
   "outputs": [],
   "source": [
    "name = input(\"please enter your name \")  # input function always return a string"
   ]
  },
  {
   "cell_type": "code",
   "execution_count": null,
   "id": "415cf09d",
   "metadata": {},
   "outputs": [],
   "source": [
    "salary = int(input(\"Please enter your salary\"))"
   ]
  },
  {
   "cell_type": "code",
   "execution_count": null,
   "id": "9442cbd6",
   "metadata": {},
   "outputs": [],
   "source": [
    "salary"
   ]
  },
  {
   "cell_type": "code",
   "execution_count": null,
   "id": "b872b255",
   "metadata": {},
   "outputs": [],
   "source": [
    "salary = int(input(\"Please enter your salary: \"))\n",
    "bonus = int(input(\"Please enter your bonus: \"))\n",
    "profit = float(input(\"Please enter your profit+ \"))\n",
    "profit_total = salary * (profit/100)\n",
    "payCheck = salary + bonus + profit_total\n",
    "payCheck\n"
   ]
  },
  {
   "cell_type": "code",
   "execution_count": null,
   "id": "b3c43149",
   "metadata": {},
   "outputs": [],
   "source": [
    "length = int(input(\"please enetrr length of square\"))\n",
    "area = length * length\n",
    "print(\"the are of square is : \", area)"
   ]
  },
  {
   "cell_type": "markdown",
   "id": "f4929133",
   "metadata": {},
   "source": [
    "# conditions in python\n"
   ]
  },
  {
   "cell_type": "code",
   "execution_count": 2,
   "id": "c16826f8",
   "metadata": {},
   "outputs": [
    {
     "name": "stdout",
     "output_type": "stream",
     "text": [
      "are you interested in swimming?  enter y for yes and N for no n\n",
      "i m oyt of if\n"
     ]
    }
   ],
   "source": [
    "answer= input(\"are you interested in swimming?  enter y for yes and N for no \")\n",
    "\n",
    "if(answer ==\"y\"):\n",
    "    \n",
    "    print(\"lets go to pool\")\n",
    "    print(\"i am in if\")\n",
    "print(\"i m oyt of if\")"
   ]
  },
  {
   "cell_type": "code",
   "execution_count": 5,
   "id": "c621e33d",
   "metadata": {},
   "outputs": [
    {
     "name": "stdout",
     "output_type": "stream",
     "text": [
      "Please enter first number:5\n",
      "Please enter second number: 2\n"
     ]
    }
   ],
   "source": [
    "first_number = int(input(\"Please enter first number:\"))\n",
    "second_number = int(input(\"Please enter second number: \"))\n",
    "\n",
    "if(first_number % second_number == 0):\n",
    "    print(\"divide ho gya \")"
   ]
  },
  {
   "cell_type": "code",
   "execution_count": null,
   "id": "957d8a59",
   "metadata": {},
   "outputs": [],
   "source": []
  }
 ],
 "metadata": {
  "kernelspec": {
   "display_name": "Python 3 (ipykernel)",
   "language": "python",
   "name": "python3"
  },
  "language_info": {
   "codemirror_mode": {
    "name": "ipython",
    "version": 3
   },
   "file_extension": ".py",
   "mimetype": "text/x-python",
   "name": "python",
   "nbconvert_exporter": "python",
   "pygments_lexer": "ipython3",
   "version": "3.9.7"
  }
 },
 "nbformat": 4,
 "nbformat_minor": 5
}
